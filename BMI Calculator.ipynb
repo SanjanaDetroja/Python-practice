{
 "cells": [
  {
   "cell_type": "code",
   "execution_count": 4,
   "id": "a4b35b49-b3af-4fbb-afa7-34db3b4d46ff",
   "metadata": {},
   "outputs": [
    {
     "name": "stdin",
     "output_type": "stream",
     "text": [
      "Enter your weight in kilograms:  60\n",
      "Enter your height in meters:  1.63\n"
     ]
    },
    {
     "name": "stdout",
     "output_type": "stream",
     "text": [
      "Your BMI is: 22.58\n",
      "You are classified as: Normal weight\n"
     ]
    }
   ],
   "source": [
    "def calculate_bmi(weight, height):\n",
    "    \"\"\"\n",
    "    Calculate BMI given weight in kilograms and height in meters.\n",
    "    Args:\n",
    "    weight (float): Weight in kilograms.\n",
    "    height (float): Height in meters.\n",
    "    \n",
    "    Returns:\n",
    "    float: Calculated BMI.\n",
    "    \"\"\"\n",
    "    try:\n",
    "        bmi = weight / (height ** 2)\n",
    "        return bmi\n",
    "    except ZeroDivisionError:\n",
    "        return \"Height cannot be zero.\"\n",
    "    except Exception as e:\n",
    "        return f\"An error occurred: {e}\"\n",
    "\n",
    "def bmi_category(bmi):\n",
    "    \"\"\"\n",
    "    Determine BMI category given BMI value.\n",
    "    \n",
    "    Args:\n",
    "    bmi (float): Calculated BMI.\n",
    "    \n",
    "    Returns:\n",
    "    str: BMI category.\n",
    "    \"\"\"\n",
    "    if bmi < 18.5:\n",
    "        return \"Underweight\"\n",
    "    elif 18.5 <= bmi < 24.9:\n",
    "        return \"Normal weight\"\n",
    "    elif 25 <= bmi < 29.9:\n",
    "        return \"Overweight\"\n",
    "    else:\n",
    "        return \"Obesity\"\n",
    "\n",
    "def main():\n",
    "    try:\n",
    "        weight = float(input(\"Enter your weight in kilograms: \"))\n",
    "        height = float(input(\"Enter your height in meters: \"))\n",
    "        bmi = calculate_bmi(weight, height)\n",
    "        \n",
    "        if isinstance(bmi, str):\n",
    "            print(bmi)\n",
    "        else:\n",
    "            category = bmi_category(bmi)\n",
    "            print(f\"Your BMI is: {bmi:.2f}\")\n",
    "            print(f\"You are classified as: {category}\")\n",
    "    except ValueError:\n",
    "        print(\"Please enter valid numerical values for weight and height.\")\n",
    "\n",
    "if __name__ == \"__main__\":\n",
    "    main()\n"
   ]
  },
  {
   "cell_type": "code",
   "execution_count": null,
   "id": "09a8679d-f19f-4fdd-a42a-092dd66a1991",
   "metadata": {},
   "outputs": [],
   "source": []
  }
 ],
 "metadata": {
  "kernelspec": {
   "display_name": "Python 3 (ipykernel)",
   "language": "python",
   "name": "python3"
  },
  "language_info": {
   "codemirror_mode": {
    "name": "ipython",
    "version": 3
   },
   "file_extension": ".py",
   "mimetype": "text/x-python",
   "name": "python",
   "nbconvert_exporter": "python",
   "pygments_lexer": "ipython3",
   "version": "3.12.4"
  }
 },
 "nbformat": 4,
 "nbformat_minor": 5
}
