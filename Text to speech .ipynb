{
 "cells": [
  {
   "cell_type": "markdown",
   "id": "943c650e-e0d9-44a9-846e-35a8d769ba74",
   "metadata": {},
   "source": [
    "# Importing Library"
   ]
  },
  {
   "cell_type": "code",
   "execution_count": null,
   "id": "0945d78e-3b18-4e2d-ba4e-783cebe89c79",
   "metadata": {},
   "outputs": [],
   "source": [
    "from newspaper import Article\n",
    "import nltk\n",
    "from gtts import gTTS\n",
    "import os"
   ]
  },
  {
   "cell_type": "markdown",
   "id": "80552cda-f9ab-4955-bec8-e7e114b850d6",
   "metadata": {},
   "source": [
    "# Taking imput Article"
   ]
  },
  {
   "cell_type": "code",
   "execution_count": null,
   "id": "27b16001-e716-4f27-89aa-cdcfac25adac",
   "metadata": {},
   "outputs": [],
   "source": [
    "article = Article(\"https://timesofindia.indiatimes.com/sports/cricket/icc-mens-t20-world-cup/delhi-done-t20-world-cup-winners-team-india-leaves-for-mumbai-after-meeting-pm-narendra-modi-watch/articleshow/111481719.cms\")"
   ]
  },
  {
   "cell_type": "markdown",
   "id": "4b1f9813-b1a9-41d8-8b94-22756d195fdd",
   "metadata": {},
   "source": [
    "# Downloading article file "
   ]
  },
  {
   "cell_type": "code",
   "execution_count": null,
   "id": "31466e17-8602-4570-864a-9ae3b890225a",
   "metadata": {},
   "outputs": [],
   "source": [
    "article.download()\n",
    "article.parse()"
   ]
  },
  {
   "cell_type": "code",
   "execution_count": null,
   "id": "2849ee61-a777-4e1b-997b-c42a32e1decd",
   "metadata": {},
   "outputs": [],
   "source": [
    "nltk.download('punkt')\n",
    "article.nlp()"
   ]
  },
  {
   "cell_type": "markdown",
   "id": "03bd857c-914f-4ec9-af6f-fe3faeda80b5",
   "metadata": {},
   "source": [
    "# Converting Text to speech by giving particular instructions"
   ]
  },
  {
   "cell_type": "code",
   "execution_count": null,
   "id": "2277a71d-eb23-4c05-b3b9-23c8d0aadf73",
   "metadata": {},
   "outputs": [],
   "source": [
    "mytext = article.text\n",
    "language = 'en'\n",
    "myobj = gTTS(text=mytext, lang=language, slow=False)"
   ]
  },
  {
   "cell_type": "markdown",
   "id": "95e469ef-987f-4f1f-9754-c4360d9d9d2f",
   "metadata": {},
   "source": [
    "# Audio Output"
   ]
  },
  {
   "cell_type": "code",
   "execution_count": null,
   "id": "a572965b-516e-4754-a6d9-a374db6901e9",
   "metadata": {},
   "outputs": [],
   "source": [
    "myobj.save(\"read_article.mp3\")\n",
    "os.system(\"start read_article.mp3\")"
   ]
  }
 ],
 "metadata": {
  "kernelspec": {
   "display_name": "Python 3 (ipykernel)",
   "language": "python",
   "name": "python3"
  },
  "language_info": {
   "codemirror_mode": {
    "name": "ipython",
    "version": 3
   },
   "file_extension": ".py",
   "mimetype": "text/x-python",
   "name": "python",
   "nbconvert_exporter": "python",
   "pygments_lexer": "ipython3",
   "version": "3.12.4"
  }
 },
 "nbformat": 4,
 "nbformat_minor": 5
}
