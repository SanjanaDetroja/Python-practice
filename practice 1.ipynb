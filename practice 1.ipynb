{
 "cells": [
  {
   "cell_type": "markdown",
   "id": "e92f6050",
   "metadata": {},
   "source": [
    "# session 1&2 (work done in clas)"
   ]
  },
  {
   "cell_type": "code",
   "execution_count": 32,
   "id": "bc109687",
   "metadata": {},
   "outputs": [
    {
     "name": "stdout",
     "output_type": "stream",
     "text": [
      "Hello World\n"
     ]
    }
   ],
   "source": [
    "print(\"Hello World\")"
   ]
  },
  {
   "cell_type": "code",
   "execution_count": 33,
   "id": "b2fd7c23",
   "metadata": {},
   "outputs": [
    {
     "name": "stdout",
     "output_type": "stream",
     "text": [
      "25\n",
      "<class 'int'>\n",
      "Variable\n",
      "<class 'str'>\n"
     ]
    }
   ],
   "source": [
    "# Second \n",
    "a=25\n",
    "b='Variable'\n",
    "print(a)\n",
    "print(type(a))\n",
    "print(b)\n",
    "print(type(b))"
   ]
  },
  {
   "cell_type": "code",
   "execution_count": 34,
   "id": "93e19528",
   "metadata": {},
   "outputs": [
    {
     "name": "stdout",
     "output_type": "stream",
     "text": [
      "25\n",
      "<class 'int'>\n",
      "Variable\n",
      "<class 'str'>\n",
      "CONSTANT\n",
      "<class 'str'>\n"
     ]
    }
   ],
   "source": [
    "a=25\n",
    "b='Variable'\n",
    "print(a)\n",
    "print(type(a))\n",
    "print(b)\n",
    "print(type(b))\n",
    "a='CONSTANT'\n",
    "print(a)\n",
    "print(type(a))"
   ]
  },
  {
   "cell_type": "code",
   "execution_count": 35,
   "id": "6692d0ee",
   "metadata": {},
   "outputs": [
    {
     "name": "stdout",
     "output_type": "stream",
     "text": [
      "Managers\n",
      "['Python', 'FOR', 'Managers']\n",
      "['FOR', 'Managers']\n"
     ]
    }
   ],
   "source": [
    "# List \n",
    "my_list=['Python','for','Managers']\n",
    "print(my_list[2])\n",
    "my_list[1]='FOR'\n",
    "print(my_list)\n",
    "print(my_list[1:3])"
   ]
  },
  {
   "cell_type": "code",
   "execution_count": 36,
   "id": "a34a6305",
   "metadata": {},
   "outputs": [
    {
     "name": "stdout",
     "output_type": "stream",
     "text": [
      "['Python', 'FOR', 'Managers', 'Benefit']\n"
     ]
    }
   ],
   "source": [
    "#Append \n",
    "\n",
    "my_list.append('Benefit')\n",
    "print(my_list)"
   ]
  },
  {
   "cell_type": "code",
   "execution_count": 37,
   "id": "903be717",
   "metadata": {},
   "outputs": [
    {
     "name": "stdout",
     "output_type": "stream",
     "text": [
      "['Python', 'FOR', 'Managers', 'and their', 'Benefit']\n"
     ]
    }
   ],
   "source": [
    "# Insert \n",
    "my_list.insert(3,'and their')\n",
    "print(my_list)"
   ]
  },
  {
   "cell_type": "code",
   "execution_count": 38,
   "id": "4abc458b",
   "metadata": {},
   "outputs": [
    {
     "name": "stdout",
     "output_type": "stream",
     "text": [
      "['Python', 'Finance', 'Excel', 'DBMS', 'MM', 'ITTS', 'ECO']\n"
     ]
    }
   ],
   "source": [
    "# Extend\n",
    "abc=['Python','Finance','Excel']\n",
    "xyz=['DBMS','MM','ITTS','ECO']\n",
    "abc.extend(xyz)\n",
    "print(abc)"
   ]
  },
  {
   "cell_type": "code",
   "execution_count": 39,
   "id": "6df72809",
   "metadata": {},
   "outputs": [
    {
     "name": "stdout",
     "output_type": "stream",
     "text": [
      "['Python', 'Finance', 'Excel', 'DBMS', 'MM', 'ITTS']\n"
     ]
    }
   ],
   "source": [
    "# Pop \n",
    "\n",
    "abc.pop()\n",
    "print(abc)"
   ]
  },
  {
   "cell_type": "code",
   "execution_count": 40,
   "id": "96f67921",
   "metadata": {},
   "outputs": [
    {
     "name": "stdout",
     "output_type": "stream",
     "text": [
      "['Ambani', 'Tata', 'Adani', 'Birla']\n"
     ]
    }
   ],
   "source": [
    "# Remove\n",
    "\n",
    "MY_list=['Adani','Ambani','Tata','Adani','Birla']\n",
    "MY_list.remove('Adani')\n",
    "print(MY_list)"
   ]
  },
  {
   "cell_type": "code",
   "execution_count": 41,
   "id": "5d6a9f03",
   "metadata": {},
   "outputs": [
    {
     "name": "stdout",
     "output_type": "stream",
     "text": [
      "[]\n"
     ]
    }
   ],
   "source": [
    "# Clear\n",
    "\n",
    "MY_list.clear()\n",
    "print(MY_list)"
   ]
  },
  {
   "cell_type": "code",
   "execution_count": 42,
   "id": "ce07d666",
   "metadata": {},
   "outputs": [
    {
     "data": {
      "text/plain": [
       "4"
      ]
     },
     "execution_count": 42,
     "metadata": {},
     "output_type": "execute_result"
    }
   ],
   "source": [
    "# Count\n",
    "\n",
    "mylist=[1,1,2,2,3,3,5,5,5,6,4,8,5]\n",
    "mylist.count(5)"
   ]
  },
  {
   "cell_type": "code",
   "execution_count": 43,
   "id": "48cefbb7",
   "metadata": {},
   "outputs": [
    {
     "name": "stdout",
     "output_type": "stream",
     "text": [
      "['data', 'study', 'i']\n"
     ]
    }
   ],
   "source": [
    "# Reverse\n",
    "\n",
    "Melist=['i','study','data']\n",
    "Melist.reverse()\n",
    "print(Melist)"
   ]
  },
  {
   "cell_type": "code",
   "execution_count": 44,
   "id": "1d59c28d",
   "metadata": {},
   "outputs": [
    {
     "name": "stdout",
     "output_type": "stream",
     "text": [
      "['elon', 'harshal', 'jeff', 'mark']\n",
      "['mark', 'jeff', 'harshal', 'elon']\n"
     ]
    }
   ],
   "source": [
    "# Sort\n",
    "\n",
    "my_list=['harshal','mark','elon','jeff']\n",
    "my_list.sort()\n",
    "print(my_list)\n",
    "my_list.sort(reverse=True)\n",
    "print(my_list)"
   ]
  },
  {
   "cell_type": "code",
   "execution_count": 45,
   "id": "c77a02de",
   "metadata": {},
   "outputs": [
    {
     "name": "stdout",
     "output_type": "stream",
     "text": [
      "{'Cloud': '9', 'Floor': 'Tenth', 'Flat': 'K. K. Avenue'}\n",
      "9\n"
     ]
    }
   ],
   "source": [
    "# Dictionary Demo\n",
    "\n",
    "mydit={'Cloud':\"9\",'Floor':\"Tenth\",'Flat':\"K. K. Avenue\"}\n",
    "print(mydit)\n",
    "print(mydit['Cloud'])"
   ]
  },
  {
   "cell_type": "code",
   "execution_count": 46,
   "id": "2165b906",
   "metadata": {},
   "outputs": [
    {
     "name": "stdout",
     "output_type": "stream",
     "text": [
      "dict_keys(['Cloud', 'Floor', 'Flat'])\n"
     ]
    }
   ],
   "source": [
    "# Keys\n",
    "print(mydit.keys())"
   ]
  },
  {
   "cell_type": "code",
   "execution_count": 47,
   "id": "55f27a01",
   "metadata": {},
   "outputs": [
    {
     "name": "stdout",
     "output_type": "stream",
     "text": [
      "dict_values(['9', 'Tenth', 'K. K. Avenue'])\n"
     ]
    }
   ],
   "source": [
    "# Values\n",
    "print(mydit.values())"
   ]
  },
  {
   "cell_type": "code",
   "execution_count": 48,
   "id": "298b537a",
   "metadata": {},
   "outputs": [
    {
     "name": "stdout",
     "output_type": "stream",
     "text": [
      "dict_items([('Cloud', '9'), ('Floor', 'Tenth'), ('Flat', 'K. K. Avenue')])\n"
     ]
    }
   ],
   "source": [
    "# Items\n",
    "print(mydit.items())"
   ]
  },
  {
   "cell_type": "code",
   "execution_count": 49,
   "id": "5d3628f8",
   "metadata": {},
   "outputs": [
    {
     "name": "stdout",
     "output_type": "stream",
     "text": [
      "d is greatest \n"
     ]
    }
   ],
   "source": [
    "# Basic IF Statement\n",
    "\n",
    "d=52\n",
    "if d > 50:\n",
    "    print(\"d is greatest \")\n"
   ]
  },
  {
   "cell_type": "code",
   "execution_count": 50,
   "id": "2675a234",
   "metadata": {},
   "outputs": [
    {
     "name": "stdout",
     "output_type": "stream",
     "text": [
      "d is greatest \n"
     ]
    }
   ],
   "source": [
    "# Basic IF Statement\n",
    "\n",
    "d=52\n",
    "if d > 50:\n",
    "    print(\"d is greatest \")"
   ]
  },
  {
   "cell_type": "code",
   "execution_count": 51,
   "id": "8decdeff",
   "metadata": {},
   "outputs": [
    {
     "name": "stdout",
     "output_type": "stream",
     "text": [
      "f is smaller\n"
     ]
    }
   ],
   "source": [
    "# Basic IF ELSE Statement\n",
    "\n",
    "f=35\n",
    "if f > 40:\n",
    "    print('f is greater')\n",
    "else:\n",
    "    print('f is smaller')"
   ]
  },
  {
   "cell_type": "code",
   "execution_count": 52,
   "id": "4199134f",
   "metadata": {},
   "outputs": [
    {
     "name": "stdout",
     "output_type": "stream",
     "text": [
      "h is greater than g\n"
     ]
    }
   ],
   "source": [
    "# Basic IF ELIF Statement\n",
    "\n",
    "h=8\n",
    "g=6\n",
    "if h>g:\n",
    "    print('h is greater than g')\n",
    "elif g>h:\n",
    "    print('h is not greater')\n",
    "else:\n",
    "    print('g is greatest')"
   ]
  },
  {
   "cell_type": "code",
   "execution_count": 53,
   "id": "48a74445",
   "metadata": {},
   "outputs": [
    {
     "name": "stdout",
     "output_type": "stream",
     "text": [
      "1\n",
      "2\n",
      "3\n",
      "5\n",
      "9\n",
      "10\n",
      "8\n",
      "6\n",
      "0\n",
      "1\n",
      "5\n"
     ]
    }
   ],
   "source": [
    "# Basic FOR loop\n",
    "\n",
    "x=[1,2,3,5,9,10,8,6,0,1,5]\n",
    "for i in x:\n",
    "    print(i)"
   ]
  },
  {
   "cell_type": "code",
   "execution_count": 54,
   "id": "ea706a49",
   "metadata": {},
   "outputs": [
    {
     "name": "stdout",
     "output_type": "stream",
     "text": [
      "9\n",
      "10\n",
      "8\n",
      "6\n"
     ]
    }
   ],
   "source": [
    "# IF in FOR loop\n",
    "\n",
    "x=[1,2,3,5,9,10,8,6,0,1,5]\n",
    "for i in x:\n",
    "    if i>5:\n",
    "        print(i)"
   ]
  },
  {
   "cell_type": "code",
   "execution_count": 55,
   "id": "6d8fd075",
   "metadata": {},
   "outputs": [
    {
     "name": "stdout",
     "output_type": "stream",
     "text": [
      "2\n",
      "4\n",
      "11\n"
     ]
    }
   ],
   "source": [
    "# Output from a list of tuples\n",
    "#  Without tuple unpacking\n",
    "a=[(1,2),(3,4),(10,11)]\n",
    "for i in a:\n",
    "    print(i[1])"
   ]
  },
  {
   "cell_type": "code",
   "execution_count": 56,
   "id": "ba993639",
   "metadata": {},
   "outputs": [
    {
     "name": "stdout",
     "output_type": "stream",
     "text": [
      "2\n",
      "4\n",
      "11\n"
     ]
    }
   ],
   "source": [
    "#  With tuple unpacking\n",
    "\n",
    "a=[(1,2),(3,4),(10,11)]\n",
    "for x,y in a:\n",
    "    print(y)\n",
    "\n",
    " "
   ]
  },
  {
   "cell_type": "code",
   "execution_count": 57,
   "id": "f90313fa",
   "metadata": {},
   "outputs": [
    {
     "name": "stdout",
     "output_type": "stream",
     "text": [
      "0\n",
      "1\n",
      "2\n",
      "3\n",
      "4\n"
     ]
    }
   ],
   "source": [
    "# Range\n",
    "\n",
    "for i in range(5):\n",
    "    print(i)"
   ]
  },
  {
   "cell_type": "code",
   "execution_count": 58,
   "id": "174d3b67",
   "metadata": {},
   "outputs": [
    {
     "name": "stdout",
     "output_type": "stream",
     "text": [
      "69\n",
      "79\n",
      "89\n",
      "99\n"
     ]
    }
   ],
   "source": [
    "# While loop Demo\n",
    "\n",
    "m=69\n",
    "while m<100:\n",
    "    print(m)\n",
    "    m+=10"
   ]
  },
  {
   "cell_type": "code",
   "execution_count": 59,
   "id": "d43e67c6",
   "metadata": {},
   "outputs": [
    {
     "name": "stdout",
     "output_type": "stream",
     "text": [
      "m is greater than 100\n"
     ]
    }
   ],
   "source": [
    "# While Else demo\n",
    "\n",
    "m=169\n",
    "while m<100:\n",
    "    print(m)\n",
    "    m+=10\n",
    "else:\n",
    "    print('m is greater than 100')"
   ]
  },
  {
   "cell_type": "code",
   "execution_count": 60,
   "id": "cf37f771",
   "metadata": {},
   "outputs": [
    {
     "name": "stdout",
     "output_type": "stream",
     "text": [
      "1\n",
      "2\n",
      "3\n",
      "5\n",
      "9\n"
     ]
    }
   ],
   "source": [
    "# Break\n",
    "\n",
    "x=[1,2,3,5,9,10,8,6,0,1,5]\n",
    "for i in x:\n",
    "    print(i)\n",
    "    if i>6:\n",
    "        break"
   ]
  },
  {
   "cell_type": "code",
   "execution_count": 61,
   "id": "3af5e41c",
   "metadata": {},
   "outputs": [
    {
     "name": "stdout",
     "output_type": "stream",
     "text": [
      "1\n",
      "2\n",
      "3\n",
      "5\n",
      "0\n",
      "1\n",
      "5\n"
     ]
    }
   ],
   "source": [
    "# Continue\n",
    "\n",
    "x=[1,2,3,5,9,10,8,6,0,1,5]\n",
    "for i in x:\n",
    "    if i>=6:\n",
    "        continue\n",
    "    print(i)"
   ]
  },
  {
   "cell_type": "code",
   "execution_count": 62,
   "id": "fa6c199d",
   "metadata": {},
   "outputs": [
    {
     "name": "stdout",
     "output_type": "stream",
     "text": [
      "enter number 1: 2\n",
      "enter number 2: 3\n",
      "5\n"
     ]
    }
   ],
   "source": [
    "# Function\n",
    "\n",
    "def Add(x,y):\n",
    "    z=x+y\n",
    "    return z\n",
    "\n",
    "x=int(input('enter number 1: '))\n",
    "y=int(input('enter number 2: '))\n",
    "print(Add(x,y))\n"
   ]
  }
 ],
 "metadata": {
  "kernelspec": {
   "display_name": "Python 3",
   "language": "python",
   "name": "python3"
  },
  "language_info": {
   "codemirror_mode": {
    "name": "ipython",
    "version": 3
   },
   "file_extension": ".py",
   "mimetype": "text/x-python",
   "name": "python",
   "nbconvert_exporter": "python",
   "pygments_lexer": "ipython3",
   "version": "3.8.8"
  }
 },
 "nbformat": 4,
 "nbformat_minor": 5
}
