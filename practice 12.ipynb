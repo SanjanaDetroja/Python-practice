{
 "cells": [
  {
   "cell_type": "code",
   "execution_count": 1,
   "id": "f3658384",
   "metadata": {},
   "outputs": [
    {
     "name": "stdout",
     "output_type": "stream",
     "text": [
      "unique list :  [1, 22, 3, 4, 5, 23, 66, 13, 2]\n"
     ]
    }
   ],
   "source": [
    "# with def function remove duplicates\n",
    "def remove_duplicates(list_with_duplicates):\n",
    "    unique_list = []\n",
    "    for item in list_with_duplicates:\n",
    "        if item not in unique_list:\n",
    "            unique_list.append(item)\n",
    "    return unique_list\n",
    "\n",
    "original_list=[1,22,1,3,4,5,23,66,13,2,4,5,3]\n",
    "print(\"unique list : \",remove_duplicates(original_list))"
   ]
  },
  {
   "cell_type": "code",
   "execution_count": 3,
   "id": "3f5078f3",
   "metadata": {},
   "outputs": [
    {
     "name": "stdout",
     "output_type": "stream",
     "text": [
      "Hyyy, Welcome to Random Password generetor\n",
      "\n",
      "Enter the length of password you need : 8\n",
      "@~kI\"(oN\n"
     ]
    }
   ],
   "source": [
    "# Random Password generater\n",
    "import random\n",
    "import string\n",
    "print(\"Hyyy, Welcome to Random Password generetor\")\n",
    "length = int(input(\"\\nEnter the length of password you need : \"))\n",
    "lower = string.ascii_lowercase\n",
    "upper = string.ascii_uppercase\n",
    "num = string.digits\n",
    "symbols = string.punctuation\n",
    "all = lower + upper + num + symbols\n",
    "temp = random.sample(all,length)\n",
    "password = \"\".join(temp)\n",
    "print(password)"
   ]
  },
  {
   "cell_type": "code",
   "execution_count": 11,
   "id": "bdbe90ba",
   "metadata": {},
   "outputs": [
    {
     "name": "stdout",
     "output_type": "stream",
     "text": [
      "Enter the year : 2004\n",
      "2004 is a leap year\n"
     ]
    }
   ],
   "source": [
    "# check weather user given year id leap year or not\n",
    "def is_leap_year(year):\n",
    "    if (year%4==0 and year%100!=0)or (year%400==0):\n",
    "        return True\n",
    "    else:\n",
    "        return False\n",
    "year = int(input(\"Enter the year : \"))\n",
    "if is_leap_year(year):\n",
    "    print(f\"{year} is a leap year\")\n",
    "else:\n",
    "    print(f\"{year} is not a leap year\")"
   ]
  },
  {
   "cell_type": "code",
   "execution_count": 15,
   "id": "787c260d",
   "metadata": {
    "scrolled": true
   },
   "outputs": [
    {
     "name": "stdout",
     "output_type": "stream",
     "text": [
      "Current Date : 2023-11-04\n",
      "5 days before Current Date : 2023-11-09\n",
      "Current Date : 2023-11-04\n",
      "5 days before Current Date : 2023-10-30\n"
     ]
    }
   ],
   "source": [
    "# subtract/add mentioned number of days from current date\n",
    "from datetime import date,timedelta\n",
    "dt = date.today() + timedelta(5)\n",
    "print('Current Date :',date.today())\n",
    "print('5 days before Current Date :',dt)\n",
    "\n",
    "from datetime import date,timedelta\n",
    "dt = date.today() - timedelta(5)\n",
    "print('Current Date :',date.today())\n",
    "print('5 days before Current Date :',dt)"
   ]
  },
  {
   "cell_type": "code",
   "execution_count": 1,
   "id": "e33345b8",
   "metadata": {},
   "outputs": [
    {
     "name": "stdout",
     "output_type": "stream",
     "text": [
      "Enter upper range :22\n",
      "Enter lower range :25\n",
      "number ; 23\n",
      "sorry you lose, the correct guess is  24\n"
     ]
    }
   ],
   "source": [
    "# guess the number game\n",
    "import random\n",
    "upper= int(input(\"Enter upper range :\"))\n",
    "lower = int(input(\"Enter lower range :\"))\n",
    "num= int(input(\"number ; \"))\n",
    "guess = random.randint(upper,lower)\n",
    "if num == guess:\n",
    "    print(\"Congrats you won\")\n",
    "else:\n",
    "    print(\"sorry you lose, the correct guess is \",guess)"
   ]
  },
  {
   "cell_type": "code",
   "execution_count": 2,
   "id": "031f1094",
   "metadata": {},
   "outputs": [
    {
     "name": "stdout",
     "output_type": "stream",
     "text": [
      "Enter a password: Sanju12\n",
      "Password is weak. It must have a minimum length of 8 characters, at least one uppercase letter, one lowercase letter, and one special character.\n"
     ]
    }
   ],
   "source": [
    "# password strength checker\n",
    "import re\n",
    "def is_strong_password(password):\n",
    "    if len(password) < 8:\n",
    "        return False\n",
    "    if not any(char.isupper() for char in password):\n",
    "        return False\n",
    "    if not any(char.islower() for char in password):\n",
    "        return False\n",
    "    if not re.search(r\"[!@#$%^&*()_+]\", password):\n",
    "        return False\n",
    "    return True\n",
    "password = input(\"Enter a password: \")\n",
    "if is_strong_password(password):\n",
    "    print(\"Password is strong and meets all criteria.\")\n",
    "else:\n",
    "    print(\"Password is weak. It must have a minimum length of 8 characters, at least one uppercase letter, one lowercase letter, and one special character.\")"
   ]
  },
  {
   "cell_type": "code",
   "execution_count": 7,
   "id": "1c50cb23",
   "metadata": {},
   "outputs": [
    {
     "name": "stdout",
     "output_type": "stream",
     "text": [
      "Solved Sudoku:\n",
      "5 3 4 | 6 7 8 | 9 1 2 \n",
      "6 7 2 | 1 9 5 | 3 4 8 \n",
      "1 9 8 | 3 4 2 | 5 6 7 \n",
      "- - - - - - - - - - -\n",
      "8 5 9 | 7 6 1 | 4 2 3 \n",
      "4 2 6 | 8 5 3 | 7 9 1 \n",
      "7 1 3 | 9 2 4 | 8 5 6 \n",
      "- - - - - - - - - - -\n",
      "9 6 1 | 5 3 7 | 2 8 4 \n",
      "2 8 7 | 4 1 9 | 6 3 5 \n",
      "3 4 5 | 2 8 6 | 1 7 9 \n"
     ]
    }
   ],
   "source": [
    "# give solved sudoku code\n",
    "\n",
    "def print_board(board):\n",
    "    for i in range(9):\n",
    "        if i % 3 == 0 and i != 0:\n",
    "            print(\"- - - - - - - - - - -\")\n",
    "        for j in range(9):\n",
    "            if j % 3 == 0 and j != 0:\n",
    "                print(\"|\", end=\" \")\n",
    "            print(board[i][j], end=\" \")\n",
    "        print()\n",
    "def is_valid_move(board, row, col, num):\n",
    "    if num in board[row]:\n",
    "        return False\n",
    "    if num in [board[i][col] for i in range(9)]:\n",
    "        return False\n",
    "    start_row, start_col = 3 * (row // 3), 3 * (col // 3)\n",
    "    for i in range(start_row, start_row + 3):\n",
    "        for j in range(start_col, start_col + 3):\n",
    "            if board[i][j] == num:\n",
    "                return False\n",
    "    return True\n",
    "def solve_sudoku(board):\n",
    "    for row in range(9):\n",
    "        for col in range(9):\n",
    "            if board[row][col] == 0:\n",
    "                for num in range(1, 10):\n",
    "                    if is_valid_move(board, row, col, num):\n",
    "                        board[row][col] = num\n",
    "                        if solve_sudoku(board):\n",
    "                            return True\n",
    "                        board[row][col] = 0\n",
    "                return False\n",
    "    return True\n",
    "sudoku_board = [\n",
    "    [5, 3, 0, 0, 7, 0, 0, 0, 0],\n",
    "    [6, 0, 0, 1, 9, 5, 0, 0, 0],\n",
    "    [0, 9, 8, 0, 0, 0, 0, 6, 0],\n",
    "    [8, 0, 0, 0, 6, 0, 0, 0, 3],\n",
    "    [4, 0, 0, 8, 0, 3, 0, 0, 1],\n",
    "    [7, 0, 0, 0, 2, 0, 0, 0, 6],\n",
    "    [0, 6, 0, 0, 0, 0, 2, 8, 0],\n",
    "    [0, 0, 0, 4, 1, 9, 0, 0, 5],\n",
    "    [0, 0, 0, 0, 8, 0, 0, 7, 9]\n",
    "]\n",
    "if solve_sudoku(sudoku_board):\n",
    "    print(\"Solved Sudoku:\")\n",
    "    print_board(sudoku_board)\n",
    "else:\n",
    "    print(\"No solution exists.\")"
   ]
  },
  {
   "cell_type": "code",
   "execution_count": 9,
   "id": "ad93128d",
   "metadata": {},
   "outputs": [
    {
     "name": "stdout",
     "output_type": "stream",
     "text": [
      "Original list:\n",
      "[10, 20, 30, 40, 50, 60, 70, 80]\n",
      "Reverse elements of the said list between index position 2 and 4\n",
      "[10, 20, 50, 40, 30, 60, 70, 80]\n"
     ]
    }
   ],
   "source": [
    "# reverse the specific item from list\n",
    "def reverse_list_in_location(lst, start_pos, end_pos):\n",
    "    while start_pos < end_pos:\n",
    "        lst[start_pos], lst[end_pos] = lst[end_pos], lst[start_pos]\n",
    "        start_pos += 1\n",
    "        end_pos -= 1\n",
    "    return lst\n",
    "\n",
    "nums = [10,20,30,40,50,60,70,80]\n",
    "start_pos = 2\n",
    "end_pos = 4\n",
    "print(\"Original list:\")\n",
    "print(nums)\n",
    "print(\"Reverse elements of the said list between index position \"+str(start_pos)+ \" and \"+str(end_pos))\n",
    "print(reverse_list_in_location(nums,start_pos,end_pos))"
   ]
  },
  {
   "cell_type": "code",
   "execution_count": 13,
   "id": "2c8470cf",
   "metadata": {},
   "outputs": [
    {
     "name": "stdout",
     "output_type": "stream",
     "text": [
      "Original lists:\n",
      "['Red', 'Green', 'Blue']\n",
      "['Red', 'White', 'Pink', 'Black']\n",
      "\n",
      "Union of said two lists:\n",
      "['White', 'Red', 'Black', 'Pink', 'Blue', 'Green']\n",
      "\n",
      "Intersection of said two lists:\n",
      "['Red']\n"
     ]
    }
   ],
   "source": [
    "# union and intersection of list\n",
    "def union_intersection(lst1, lst2):\n",
    "    union = list(set(lst1) | set(lst2))\n",
    "    intersection = list(set(lst1) & set(lst2))\n",
    "    return union, intersection\n",
    "colors1 = [\"Red\", \"Green\", \"Blue\"]\n",
    "colors2 = [\"Red\", \"White\", \"Pink\", \"Black\"]\n",
    "print(\"Original lists:\")\n",
    "print(colors1)\n",
    "print(colors2)\n",
    "result = union_intersection(colors1, colors2)\n",
    "print(\"\\nUnion of said two lists:\")\n",
    "print(result[0])\n",
    "print(\"\\nIntersection of said two lists:\")\n",
    "print(result[1])"
   ]
  },
  {
   "cell_type": "code",
   "execution_count": 14,
   "id": "1dc64610",
   "metadata": {},
   "outputs": [
    {
     "name": "stdout",
     "output_type": "stream",
     "text": [
      "Original list:\n",
      "[1, 2, 6, 12]\n",
      "Minimum sum sub-sequence of the said list:\n",
      "[1]\n"
     ]
    }
   ],
   "source": [
    "def minimum_sum_subsequence(lst):\n",
    "    min_sum = float('inf')\n",
    "    start, end = 0, 0\n",
    "    curr_start, curr_sum = 0, 0 \n",
    "    for i in range(len(lst)):\n",
    "        curr_sum += lst[i]\n",
    "        if curr_sum < min_sum:\n",
    "            min_sum = curr_sum\n",
    "            start = curr_start\n",
    "            end = i\n",
    "        if curr_sum > 0:\n",
    "            curr_sum = 0\n",
    "            curr_start = i + 1   \n",
    "    return lst[start:end+1]\n",
    "nums =  [1,2,6,12]\n",
    "print(\"Original list:\")\n",
    "print(nums)\n",
    "result = minimum_sum_subsequence(nums)\n",
    "print(\"Minimum sum sub-sequence of the said list:\")\n",
    "print(result)"
   ]
  },
  {
   "cell_type": "code",
   "execution_count": null,
   "id": "372d2f4f",
   "metadata": {},
   "outputs": [],
   "source": []
  }
 ],
 "metadata": {
  "kernelspec": {
   "display_name": "Python 3",
   "language": "python",
   "name": "python3"
  },
  "language_info": {
   "codemirror_mode": {
    "name": "ipython",
    "version": 3
   },
   "file_extension": ".py",
   "mimetype": "text/x-python",
   "name": "python",
   "nbconvert_exporter": "python",
   "pygments_lexer": "ipython3",
   "version": "3.8.8"
  }
 },
 "nbformat": 4,
 "nbformat_minor": 5
}
