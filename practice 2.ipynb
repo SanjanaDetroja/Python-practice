{
 "cells": [
  {
   "cell_type": "code",
   "execution_count": 14,
   "id": "41319f65",
   "metadata": {},
   "outputs": [
    {
     "name": "stdout",
     "output_type": "stream",
     "text": [
      "enter n1:6\n",
      "enter n2:8\n",
      "the sum of two number is 14.0\n"
     ]
    }
   ],
   "source": [
    "print(\"the sum of two number is %0.1f\"%(float(input(\"enter n1:\"))+float(input(\"enter n2:\"))))"
   ]
  },
  {
   "cell_type": "code",
   "execution_count": 17,
   "id": "9c5e8473",
   "metadata": {},
   "outputs": [
    {
     "name": "stdout",
     "output_type": "stream",
     "text": [
      "the number: 2\n"
     ]
    },
    {
     "data": {
      "text/plain": [
       "'positive'"
      ]
     },
     "execution_count": 17,
     "metadata": {},
     "output_type": "execute_result"
    }
   ],
   "source": [
    "def check(x):\n",
    "        if x>=0:\n",
    "            return 'positive'\n",
    "num=int (input ('the number: '))\n",
    "check(num)"
   ]
  },
  {
   "cell_type": "code",
   "execution_count": 7,
   "id": "f0fd4059",
   "metadata": {},
   "outputs": [
    {
     "name": "stdout",
     "output_type": "stream",
     "text": [
      "enter the number: 3\n",
      "The square root of 3.000 is 1.732\n"
     ]
    }
   ],
   "source": [
    "num = float(input(\"enter the number: \"))\n",
    "num_sqrt = num ** 0.5\n",
    "print(\"The square root of %0.3f is %0.3f\"%(num,num_sqrt)) # %.3 is used to print 3 after the point"
   ]
  },
  {
   "cell_type": "code",
   "execution_count": 9,
   "id": "90eaaabb",
   "metadata": {},
   "outputs": [
    {
     "name": "stdout",
     "output_type": "stream",
     "text": [
      "enter the number: -4\n",
      "(1.2246467991473532e-16+2j)\n"
     ]
    }
   ],
   "source": [
    "num = float(input(\"enter the number: \"))\n",
    "num_sqrt = num ** 0.5\n",
    "print(num_sqrt) # % is used for ignoring complex value"
   ]
  },
  {
   "cell_type": "code",
   "execution_count": 12,
   "id": "db04df64",
   "metadata": {},
   "outputs": [
    {
     "name": "stdout",
     "output_type": "stream",
     "text": [
      "enter first side: -2\n",
      "enter second side: -3\n",
      "enter third side: -4\n",
      "the area of the triangle is 2.90\n"
     ]
    }
   ],
   "source": [
    "a = float(input(\"enter first side: \"))\n",
    "b = float(input(\"enter second side: \"))\n",
    "c = float(input(\"enter third side: \"))\n",
    "s = (a+b+c)/2\n",
    "area= (s*(s-a)*(s-b)*(s-c))** 0.5\n",
    "print(\"the area of the triangle is %0.2f\"%area)"
   ]
  },
  {
   "cell_type": "code",
   "execution_count": 13,
   "id": "b2ed91c5",
   "metadata": {},
   "outputs": [
    {
     "name": "stdout",
     "output_type": "stream",
     "text": [
      "enter value of x : 1\n",
      "enter value of y : 2\n",
      "the value of x after swapping 2\n",
      "the value of y after swapping 1\n"
     ]
    }
   ],
   "source": [
    "x = input(\"enter value of x : \")\n",
    "y = input(\"enter value of y : \")\n",
    "temp = x\n",
    "x=y\n",
    "y = temp\n",
    "print(\"the value of x after swapping {}\".format(x))\n",
    "print(\"the value of y after swapping {}\".format(y))"
   ]
  },
  {
   "cell_type": "code",
   "execution_count": 14,
   "id": "ee8d545b",
   "metadata": {},
   "outputs": [
    {
     "name": "stdout",
     "output_type": "stream",
     "text": [
      "3 2\n"
     ]
    }
   ],
   "source": [
    "x,y = 2,3\n",
    "x,y=y,x\n",
    "print(x,y)"
   ]
  },
  {
   "cell_type": "code",
   "execution_count": 17,
   "id": "83ead846",
   "metadata": {},
   "outputs": [
    {
     "name": "stdout",
     "output_type": "stream",
     "text": [
      "6\n"
     ]
    }
   ],
   "source": [
    "import random\n",
    "print(random.randint(0,9))"
   ]
  },
  {
   "cell_type": "code",
   "execution_count": 19,
   "id": "a5bd9097",
   "metadata": {},
   "outputs": [
    {
     "name": "stdout",
     "output_type": "stream",
     "text": [
      "Enter the value in KM : 22\n",
      "22.00 kilometers is equals to 13.67 miles\n"
     ]
    }
   ],
   "source": [
    "kilometers = float(input(\"Enter the value in KM : \"))\n",
    "conv_fac = 0.621371\n",
    "miles = kilometers*conv_fac\n",
    "print(\"%0.2f kilometers is equals to %0.2f miles\" % (kilometers,miles))"
   ]
  },
  {
   "cell_type": "code",
   "execution_count": 28,
   "id": "9b527c84",
   "metadata": {},
   "outputs": [
    {
     "name": "stdout",
     "output_type": "stream",
     "text": [
      "enter value in km: 22\n",
      "converted value in miles is 13.67\n"
     ]
    }
   ],
   "source": [
    "print('converted value in miles is %0.2f'%(float(input('enter value in km: '))*0.621371))"
   ]
  },
  {
   "cell_type": "code",
   "execution_count": 22,
   "id": "dfc66c0a",
   "metadata": {},
   "outputs": [
    {
     "name": "stdout",
     "output_type": "stream",
     "text": [
      "enter the number:3\n",
      "positive number\n"
     ]
    }
   ],
   "source": [
    "num = float(input(\"enter the number:\"))\n",
    "if num>0:\n",
    "    print(\"positive number\")\n",
    "elif num == 0:\n",
    "    pritn(\"zero\")\n",
    "else:\n",
    "    print(\"negative number\")"
   ]
  },
  {
   "cell_type": "code",
   "execution_count": 23,
   "id": "0b4ce991",
   "metadata": {},
   "outputs": [
    {
     "name": "stdout",
     "output_type": "stream",
     "text": [
      "enter the number:3\n",
      "positive number\n"
     ]
    }
   ],
   "source": [
    "num = float(input(\"enter the number:\"))\n",
    "if num>0:\n",
    "    if num==0:\n",
    "        print(\"zero\")\n",
    "    else:\n",
    "        print(\"positive number\")\n",
    "else:\n",
    "    print(\"negative number\")"
   ]
  },
  {
   "cell_type": "code",
   "execution_count": 26,
   "id": "b1cc0e33",
   "metadata": {},
   "outputs": [
    {
     "name": "stdout",
     "output_type": "stream",
     "text": [
      "enter a number : 1\n",
      "number is odd\n"
     ]
    }
   ],
   "source": [
    "num = int(input(\"enter a number : \"))\n",
    "if num%2 == 0:\n",
    "    print(\"number is even\")\n",
    "else:\n",
    "    print(\"number is odd\")"
   ]
  },
  {
   "cell_type": "code",
   "execution_count": 29,
   "id": "0dd2a636",
   "metadata": {},
   "outputs": [
    {
     "name": "stdout",
     "output_type": "stream",
     "text": [
      "enter first number : 2\n",
      "enter second number : 3\n",
      "enter third number : 4\n",
      "the largest number is :  4\n"
     ]
    }
   ],
   "source": [
    "n1 = input(\"enter first number : \")\n",
    "n2 = input(\"enter second number : \")\n",
    "n3 = input(\"enter third number : \")\n",
    "if n1>n2 and n1>n3:\n",
    "    print(\"the largest number is : \",n1)\n",
    "elif n2>n3 and n2>n1:\n",
    "    print(\"the largest number is : \",n2)\n",
    "else:\n",
    "    print(\"the largest number is : \",n3)"
   ]
  },
  {
   "cell_type": "code",
   "execution_count": 36,
   "id": "b0ebe8a7",
   "metadata": {},
   "outputs": [
    {
     "name": "stdout",
     "output_type": "stream",
     "text": [
      "enter the number: -1\n",
      "factorial not possible\n",
      "the factorial of -1 is None\n"
     ]
    }
   ],
   "source": [
    "def factorial(x):\n",
    "    if x ==1:\n",
    "        return 1\n",
    "    elif x<1:\n",
    "        print(\"factorial not possible\")\n",
    "    else:\n",
    "        return(x*factorial(x-1))\n",
    "num = int(input(\"enter the number: \"))\n",
    "result = factorial(num)\n",
    "print(\"the factorial of\",num,\"is\",result)"
   ]
  },
  {
   "cell_type": "code",
   "execution_count": 37,
   "id": "5ea67c71",
   "metadata": {},
   "outputs": [
    {
     "name": "stdout",
     "output_type": "stream",
     "text": [
      "how many terms:2\n",
      "the total terms are 2\n",
      "2 raised to the power 0 is 1\n",
      "2 raised to the power 1 is 2\n"
     ]
    }
   ],
   "source": [
    "terms = int(input(\"how many terms:\"))\n",
    "result = list(map(lambda x : 2**x,range(terms)))\n",
    "print(\"the total terms are\",terms)\n",
    "for i in range(terms):\n",
    "    print(\"2 raised to the power\",i,\"is\",result[i])"
   ]
  },
  {
   "cell_type": "code",
   "execution_count": 3,
   "id": "87bac32d",
   "metadata": {},
   "outputs": [
    {
     "name": "stdout",
     "output_type": "stream",
     "text": [
      "number divisible by 2 are [2, 22, 12]\n"
     ]
    }
   ],
   "source": [
    "my_list = [2,3,22,13,33,12]\n",
    "result = list(filter(lambda x : (x%2 == 0),my_list))\n",
    "print(\"number divisible by 2 are\", result)"
   ]
  },
  {
   "cell_type": "code",
   "execution_count": 9,
   "id": "5f385830",
   "metadata": {},
   "outputs": [
    {
     "name": "stdout",
     "output_type": "stream",
     "text": [
      "The Decimal value of 2 is\n",
      "0b10 in binary\n",
      "0o2 in octal\n",
      "0x2 in hexadecimal\n"
     ]
    }
   ],
   "source": [
    "dec = 2\n",
    "print(\"The Decimal value of\",dec,\"is\")\n",
    "print(bin(dec),\"in binary\") # 0b,0o,0x are representavie\n",
    "print(oct(dec),\"in octal\")\n",
    "print(hex(dec),\"in hexadecimal\")"
   ]
  },
  {
   "cell_type": "code",
   "execution_count": 1,
   "id": "c2bd8667",
   "metadata": {},
   "outputs": [
    {
     "name": "stdout",
     "output_type": "stream",
     "text": [
      "enter the number's multiplication table you need : 2\n",
      "2 x 1 = 2\n",
      "2 x 2 = 4\n",
      "2 x 3 = 6\n",
      "2 x 4 = 8\n",
      "2 x 5 = 10\n",
      "2 x 6 = 12\n",
      "2 x 7 = 14\n",
      "2 x 8 = 16\n",
      "2 x 9 = 18\n",
      "2 x 10 = 20\n"
     ]
    }
   ],
   "source": [
    "num = int(input(\"enter the number's multiplication table you need : \"))\n",
    "for i in range(1,11):\n",
    "    print(num,'x',i,'=',num*i)"
   ]
  },
  {
   "cell_type": "code",
   "execution_count": 3,
   "id": "6ca466b7",
   "metadata": {},
   "outputs": [
    {
     "name": "stdout",
     "output_type": "stream",
     "text": [
      "enter year:2023\n",
      "enter month: 9\n",
      "   September 2023\n",
      "Mo Tu We Th Fr Sa Su\n",
      "             1  2  3\n",
      " 4  5  6  7  8  9 10\n",
      "11 12 13 14 15 16 17\n",
      "18 19 20 21 22 23 24\n",
      "25 26 27 28 29 30\n",
      "\n"
     ]
    }
   ],
   "source": [
    "import calendar\n",
    "year =int(input(\"enter year:\"))\n",
    "month = int(input(\"enter month: \"))\n",
    "print(calendar.month(year,month))"
   ]
  },
  {
   "cell_type": "code",
   "execution_count": 5,
   "id": "35c8c7c4",
   "metadata": {},
   "outputs": [
    {
     "name": "stdout",
     "output_type": "stream",
     "text": [
      "The string is palindrome\n"
     ]
    }
   ],
   "source": [
    "my_str = 'mAdAm'\n",
    "my_str = my_str.casefold()# caseflod used to conver string in any one case small case or capital\n",
    "rev_str = reversed(my_str)\n",
    "if list(my_str) == list(rev_str):\n",
    "    print(\"The string is palindrome\")\n",
    "else:\n",
    "    print(\"The string is not palindrome\")"
   ]
  },
  {
   "cell_type": "code",
   "execution_count": 7,
   "id": "3d58f99f",
   "metadata": {},
   "outputs": [
    {
     "name": "stdout",
     "output_type": "stream",
     "text": [
      " hello  he is my  friend\n"
     ]
    }
   ],
   "source": [
    "punctuations = '''(){}[];:\"\"<>,.?/|\\_~!@#$%^&*'''\n",
    "my_str = \" hello!!! , he is my /// friend.\"\n",
    "no_punct = \"\"\n",
    "for char in my_str:\n",
    "    if char not in punctuations:\n",
    "        no_punct= no_punct+char\n",
    "print(no_punct)"
   ]
  },
  {
   "cell_type": "code",
   "execution_count": null,
   "id": "8d02597c",
   "metadata": {},
   "outputs": [],
   "source": []
  }
 ],
 "metadata": {
  "kernelspec": {
   "display_name": "Python 3",
   "language": "python",
   "name": "python3"
  },
  "language_info": {
   "codemirror_mode": {
    "name": "ipython",
    "version": 3
   },
   "file_extension": ".py",
   "mimetype": "text/x-python",
   "name": "python",
   "nbconvert_exporter": "python",
   "pygments_lexer": "ipython3",
   "version": "3.8.8"
  }
 },
 "nbformat": 4,
 "nbformat_minor": 5
}
