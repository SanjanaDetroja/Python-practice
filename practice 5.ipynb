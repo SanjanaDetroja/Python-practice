{
 "cells": [
  {
   "cell_type": "code",
   "execution_count": 4,
   "id": "9720e64c",
   "metadata": {},
   "outputs": [
    {
     "name": "stdout",
     "output_type": "stream",
     "text": [
      "Enter humans age : 12\n",
      "Dog's age :  61\n"
     ]
    }
   ],
   "source": [
    "# 35\n",
    "human_age = int(input(\"Enter humans age : \"))\n",
    "if human_age<0:\n",
    "    print('Age must be positive integer')\n",
    "    exit()\n",
    "elif human_age<=2:\n",
    "    dog_age = human_age*10.5\n",
    "else:\n",
    "    dog_age = 21 +(human_age - 2)*4\n",
    "print(\"Dog's age : \",dog_age)"
   ]
  },
  {
   "cell_type": "code",
   "execution_count": 13,
   "id": "69f81f1d",
   "metadata": {},
   "outputs": [
    {
     "name": "stdout",
     "output_type": "stream",
     "text": [
      "Enter the Number of sides : 11\n",
      "inappropriate error\n"
     ]
    }
   ],
   "source": [
    "# 37\n",
    "side = int(input(\"Enter the Number of sides : \"))\n",
    "if side == 3:\n",
    "    print(\"Shape with 3 side is Triangle\")\n",
    "elif side == 4:\n",
    "    print(\"Shape with 4 side is Qaudratic\")\n",
    "elif side == 5:\n",
    "    print(\"Shape with 5 side is Pentagon\")\n",
    "elif side == 6:\n",
    "    print(\"Shape with 6 side is Hexagon\")\n",
    "elif side == 7:\n",
    "    print(\"Shape with 7 side is Heptagon\")\n",
    "elif side == 8:\n",
    "    print(\"Shape with 8 side is Octagon\")\n",
    "elif side == 9:\n",
    "    print(\"Shape with 9 side is Nenagon\")\n",
    "elif side == 10:\n",
    "    print(\"Shape with 10 side is Decagon\")\n",
    "else:\n",
    "    print(\"inappropriate error\")"
   ]
  },
  {
   "cell_type": "code",
   "execution_count": 18,
   "id": "3f35a33f",
   "metadata": {},
   "outputs": [
    {
     "name": "stdout",
     "output_type": "stream",
     "text": [
      "Enter a sound level in decibels: 0\n",
      "The noise is quieter than a quiet room\n"
     ]
    }
   ],
   "source": [
    "# 39\n",
    "noise_levels = {\n",
    "    130: \"Jackhammer\",\n",
    "    106: \"Gas lawnmower\",\n",
    "    70: \"Alarm clock\",\n",
    "    40: \"Quiet room\"\n",
    "}\n",
    "try:\n",
    "    decibel_level = int(input(\"Enter a sound level in decibels: \"))\n",
    "    if decibel_level in noise_levels:\n",
    "        print(f\"The noise is {noise_levels[decibel_level]}\")\n",
    "    elif decibel_level < min(noise_levels.keys()):\n",
    "        print(\"The noise is quieter than a quiet room\")\n",
    "    elif decibel_level > max(noise_levels.keys()):\n",
    "        print(\"The noise is louder than a jackhammer\")\n",
    "    else:\n",
    "        lower_level = max(key for key in noise_levels.keys() if key < decibel_level)\n",
    "        higher_level = min(key for key in noise_levels.keys() if key > decibel_level)\n",
    "        print(f\"The noise is between {noise_levels[lower_level]} and {noise_levels[higher_level]}\")\n",
    "except ValueError:\n",
    "    print(\"Invalid input. Please enter a valid number of decibels.\")"
   ]
  },
  {
   "cell_type": "code",
   "execution_count": 19,
   "id": "c7a92554",
   "metadata": {},
   "outputs": [
    {
     "name": "stdout",
     "output_type": "stream",
     "text": [
      "Enter the month (1-12): 4\n",
      "Enter the day (1-31): 23\n",
      "The entered month and day do not correspond to a fixed-date holiday.\n"
     ]
    }
   ],
   "source": [
    "# 44 \n",
    "fixed_holidays = {\n",
    "    (1, 1): \"New Year's Day\",\n",
    "    (7, 1): \"Canada Day\",\n",
    "    (12, 25): \"Christmas Day\"\n",
    "}\n",
    "month = int(input(\"Enter the month (1-12): \"))\n",
    "day = int(input(\"Enter the day (1-31): \"))\n",
    "if (month, day) in fixed_holidays:\n",
    "    holiday_name = fixed_holidays[(month, day)]\n",
    "    print(f\"The entered date corresponds to {holiday_name}.\")\n",
    "else:\n",
    "    print(\"The entered month and day do not correspond to a fixed-date holiday.\")"
   ]
  },
  {
   "cell_type": "code",
   "execution_count": 22,
   "id": "7d2c1938",
   "metadata": {},
   "outputs": [
    {
     "name": "stdout",
     "output_type": "stream",
     "text": [
      "Enter the name of the month: march\n",
      "Enter the day within the month: 20\n",
      "The season associated with march 20 is Spring.\n"
     ]
    }
   ],
   "source": [
    "# 46\n",
    "seasons = {\n",
    "    'Spring': (3, 20),\n",
    "    'Summer': (6, 21),\n",
    "    'Fall': (9, 22),\n",
    "    'Winter': (12, 21)\n",
    "}\n",
    "month = input(\"Enter the name of the month: \")\n",
    "day = int(input(\"Enter the day within the month: \"))\n",
    "month = month.lower()\n",
    "season = None\n",
    "for season_name, (start_month, start_day) in seasons.items():\n",
    "    if (month == 'december' and (start_month == 12 and day >= start_day)) or (month == 'march' and (start_month == 3 and day >= start_day)):\n",
    "        season = season_name\n",
    "    elif start_month < 12 and (month == 'march' and (start_month == 3 and day < start_day)) or (month == 'december' and (start_month == 12 and day < start_day)):\n",
    "        season = season_name\n",
    "        break\n",
    "if season:\n",
    "    print(f\"The season associated with {month} {day} is {season}.\")\n",
    "else:\n",
    "    print(\"The date you entered does not match any season.\")\n"
   ]
  },
  {
   "cell_type": "code",
   "execution_count": 23,
   "id": "d4d9f533",
   "metadata": {},
   "outputs": [
    {
     "name": "stdout",
     "output_type": "stream",
     "text": [
      "Enter your birth month (1-12): 4\n",
      "Enter your birth day (1-31): 30\n",
      "Your zodiac sign is Taurus.\n"
     ]
    }
   ],
   "source": [
    "# 47\n",
    "zodiac_signs = [\n",
    "    (\"Capricorn\", (12, 22), (1, 19)),  # (month,day)\n",
    "    (\"Aquarius\", (1, 20), (2, 18)),\n",
    "    (\"Pisces\", (2, 19), (3, 20)),\n",
    "    (\"Aries\", (3, 21), (4, 19)),\n",
    "    (\"Taurus\", (4, 20), (5, 20)),\n",
    "    (\"Gemini\", (5, 21), (6, 20)),\n",
    "    (\"Cancer\", (6, 21), (7, 22)),\n",
    "    (\"Leo\", (7, 23), (8, 22)),\n",
    "    (\"Virgo\", (8, 23), (9, 22)),\n",
    "    (\"Libra\", (9, 23), (10, 22)),\n",
    "    (\"Scorpio\", (10, 23), (11, 21)),\n",
    "    (\"Sagittarius\", (11, 22), (12, 21))\n",
    "]\n",
    "month = int(input(\"Enter your birth month (1-12): \"))\n",
    "day = int(input(\"Enter your birth day (1-31): \"))\n",
    "zodiac = None\n",
    "for sign, (start_month, start_day), (end_month, end_day) in zodiac_signs:\n",
    "    if (month == start_month and day >= start_day) or (month == end_month and day <= end_day):\n",
    "        zodiac = sign\n",
    "        break\n",
    "if zodiac:\n",
    "    print(f\"Your zodiac sign is {zodiac}.\")\n",
    "else:\n",
    "    print(\"Sorry, your birth date does not correspond to a valid zodiac sign.\")"
   ]
  },
  {
   "cell_type": "code",
   "execution_count": 24,
   "id": "e4ec1752",
   "metadata": {},
   "outputs": [
    {
     "name": "stdout",
     "output_type": "stream",
     "text": [
      "Enter a year (>= 0): 4\n",
      "The Chinese zodiac animal for the year 4 is the Dragon.\n"
     ]
    }
   ],
   "source": [
    "# 48\n",
    "zodiac_animals = [\n",
    "    \"Monkey\", \"Rooster\", \"Dog\", \"Pig\", \"Rat\", \"Ox\", \"Tiger\", \"Hare\", \"Dragon\", \"Snake\", \"Horse\", \"Sheep\"]\n",
    "year = int(input(\"Enter a year (>= 0): \"))\n",
    "if year >= 0:\n",
    "    zodiac_index = (year - 2000) % 12\n",
    "    zodiac_animal = zodiac_animals[zodiac_index]\n",
    "    print(f\"The Chinese zodiac animal for the year {year} is the {zodiac_animal}.\")\n",
    "else:\n",
    "    print(\"Please enter a valid year (>= 0).\")"
   ]
  },
  {
   "cell_type": "code",
   "execution_count": 25,
   "id": "1a0eea18",
   "metadata": {},
   "outputs": [
    {
     "name": "stdout",
     "output_type": "stream",
     "text": [
      "Enter the earthquake magnitude: 3.3\n",
      "A magnitude 3.3 earthquake is considered to be Minor.\n"
     ]
    }
   ],
   "source": [
    "# 49\n",
    "magnitude = float(input(\"Enter the earthquake magnitude: \"))\n",
    "if magnitude < 2.0:\n",
    "    descriptor = \"Micro\"\n",
    "elif 2.0 <= magnitude < 3.0:\n",
    "    descriptor = \"Very minor\"\n",
    "elif 3.0 <= magnitude < 4.0:\n",
    "    descriptor = \"Minor\"\n",
    "elif 4.0 <= magnitude < 5.0:\n",
    "    descriptor = \"Light\"\n",
    "elif 5.0 <= magnitude < 6.0:\n",
    "    descriptor = \"Moderate\"\n",
    "elif 6.0 <= magnitude < 7.0:\n",
    "    descriptor = \"Strong\"\n",
    "elif 7.0 <= magnitude < 8.0:\n",
    "    descriptor = \"Major\"\n",
    "elif 8.0 <= magnitude < 10.0:\n",
    "    descriptor = \"Great\"\n",
    "else:\n",
    "    descriptor = \"Meteoric\"\n",
    "print(f\"A magnitude {magnitude} earthquake is considered to be {descriptor}.\")"
   ]
  },
  {
   "cell_type": "code",
   "execution_count": 29,
   "id": "60f37482",
   "metadata": {},
   "outputs": [
    {
     "name": "stdout",
     "output_type": "stream",
     "text": [
      "Enter a letter grade: A+\n",
      "The equivalent grade points for A+ is 4.0.\n"
     ]
    }
   ],
   "source": [
    "# 51\n",
    "grade_points = {\n",
    "    'A+': 4.0,\n",
    "    'A': 4.0,\n",
    "    'A-': 3.7,\n",
    "    'B+': 3.3,\n",
    "    'B': 3.0,\n",
    "    'B-': 2.7,\n",
    "    'C+': 2.3,\n",
    "    'C': 2.0,\n",
    "    'C-': 1.7,\n",
    "    'D+': 1.3,\n",
    "    'D': 1.0,\n",
    "    'F': 0\n",
    "}\n",
    "letter_grade = input(\"Enter a letter grade: \").upper()\n",
    "if letter_grade in grade_points:\n",
    "    grade_point = grade_points[letter_grade]\n",
    "    print(f\"The equivalent grade points for {letter_grade} is {grade_point}.\")\n",
    "else:\n",
    "    print(\"Invalid letter grade. Please enter a valid letter grade.\")"
   ]
  },
  {
   "cell_type": "code",
   "execution_count": null,
   "id": "3045389c",
   "metadata": {},
   "outputs": [],
   "source": []
  }
 ],
 "metadata": {
  "kernelspec": {
   "display_name": "Python 3",
   "language": "python",
   "name": "python3"
  },
  "language_info": {
   "codemirror_mode": {
    "name": "ipython",
    "version": 3
   },
   "file_extension": ".py",
   "mimetype": "text/x-python",
   "name": "python",
   "nbconvert_exporter": "python",
   "pygments_lexer": "ipython3",
   "version": "3.8.8"
  }
 },
 "nbformat": 4,
 "nbformat_minor": 5
}
