{
 "cells": [
  {
   "cell_type": "code",
   "execution_count": 1,
   "id": "9cb8fa7f",
   "metadata": {},
   "outputs": [
    {
     "name": "stdout",
     "output_type": "stream",
     "text": [
      "Enter your name : sanjana \n",
      "Enter temperature in celsius: 28\n",
      "Temperature in Fahrenheit:  82.4\n",
      "Enter temperature in fahrenheit: 82.4\n",
      "Temperature in celsius:  28.000000000000004\n"
     ]
    }
   ],
   "source": [
    "# Fahrenheit to celsius and Celsius to Fahrenheit convertion\n",
    "name = input(\"Enter your name : \")\n",
    "celsius = float(input(\"Enter temperature in celsius: \"))\n",
    "fahrenheit = (celsius * 9/5) + 32\n",
    "print(\"Temperature in Fahrenheit: \",fahrenheit)\n",
    "\n",
    "fahrenheit = float(input(\"Enter temperature in fahrenheit: \"))\n",
    "celsius = (fahrenheit - 32) * 5/9\n",
    "print(\"Temperature in celsius: \", celsius)"
   ]
  },
  {
   "cell_type": "code",
   "execution_count": 1,
   "id": "96e504b5",
   "metadata": {},
   "outputs": [
    {
     "name": "stdout",
     "output_type": "stream",
     "text": [
      "Enter a number: 23\n",
      "23 is a prime number.\n"
     ]
    }
   ],
   "source": [
    "# check prime number\n",
    "def is_prime(number):\n",
    "    if number <= 1:\n",
    "        return False\n",
    "    for i in range(2, int(number**0.5) + 1):\n",
    "        if number % i == 0:\n",
    "            return False\n",
    "    return True\n",
    "num = int(input('Enter a number: '))\n",
    "if is_prime(num):\n",
    "    print(num,'is a prime number.')\n",
    "else:\n",
    "    print(num,'is not a prime number.')"
   ]
  },
  {
   "cell_type": "code",
   "execution_count": 2,
   "id": "eb6a9364",
   "metadata": {},
   "outputs": [
    {
     "name": "stdout",
     "output_type": "stream",
     "text": [
      "Enter number 1: 23\n",
      "Enter number 2: 44\n",
      "LCM of 23 and 44 is 1012\n"
     ]
    }
   ],
   "source": [
    "# find LCM\n",
    "a=int(input('Enter number 1: '))\n",
    "b=int(input('Enter number 2: '))\n",
    "for i in range (1,(a*b)+1):\n",
    "    if i%a==0 and i%b==0:\n",
    "        print('LCM of',a,'and',b,'is',i)\n",
    "        break"
   ]
  },
  {
   "cell_type": "code",
   "execution_count": 3,
   "id": "4c54e9c4",
   "metadata": {},
   "outputs": [
    {
     "name": "stdout",
     "output_type": "stream",
     "text": [
      "Enter number 1: 33\n",
      "Enter number 2: 45\n",
      "HCF is 3\n"
     ]
    }
   ],
   "source": [
    "# find HCF OR GCD\n",
    "a=int(input('Enter number 1: '))\n",
    "b=int(input('Enter number 2: '))\n",
    "while a%b !=0:\n",
    "    remainder=a%b\n",
    "    a=b\n",
    "    b=remainder\n",
    "print('HCF is',b)"
   ]
  },
  {
   "cell_type": "code",
   "execution_count": 4,
   "id": "4ac492d3",
   "metadata": {},
   "outputs": [
    {
     "name": "stdout",
     "output_type": "stream",
     "text": [
      "Enter a number: 32\n",
      "The factors of 32 are: [1, 2, 4, 8, 16, 32]\n"
     ]
    }
   ],
   "source": [
    "# Find factors of a Number\n",
    "def find_factors(n):\n",
    "    factors = []\n",
    "    for i in range(1,n+1):\n",
    "        if n % i == 0:\n",
    "            factors.append(i)\n",
    "    return factors\n",
    "num = int(input(\"Enter a number: \"))\n",
    "factors = find_factors(num)\n",
    "print(f\"The factors of {num} are: {factors}\")"
   ]
  },
  {
   "cell_type": "code",
   "execution_count": 8,
   "id": "8863bd34",
   "metadata": {},
   "outputs": [
    {
     "name": "stdout",
     "output_type": "stream",
     "text": [
      "Enter number of rows: 3\n",
      "  *\n",
      " ***\n",
      "*****\n"
     ]
    }
   ],
   "source": [
    "# Create Pyramid Pattern\n",
    "# pattern 1\n",
    "rows=int(input(\"Enter number of rows: \"))\n",
    "for i in range(0, rows):\n",
    "    for j in range(0, rows - i - 1):\n",
    "        print(\" \", end=\"\")\n",
    "    for k in range(0, 2 * i + 1):\n",
    "        print(\"*\", end=\"\")\n",
    "    print()"
   ]
  },
  {
   "cell_type": "code",
   "execution_count": null,
   "id": "bc5912a2",
   "metadata": {},
   "outputs": [],
   "source": [
    "# pattern 2\n",
    "rows=int(input(\"number of rows: \"))\n",
    "number = 1 \n",
    "print(\"floyd's triangle\")\n",
    "i=1 \n",
    "while(i<=rows):\n",
    "    j=1                             \n",
    "    while(j<=i):\n",
    "        print(j,end=' ')       \n",
    "                   \n",
    "        j=j+1\n",
    "    i=i+1\n",
    "    print() "
   ]
  },
  {
   "cell_type": "code",
   "execution_count": 9,
   "id": "77159617",
   "metadata": {},
   "outputs": [
    {
     "name": "stdout",
     "output_type": "stream",
     "text": [
      "Enter number of rows: 3\n",
      "#####\n",
      " ###\n",
      "  #\n"
     ]
    }
   ],
   "source": [
    "# pattern 3\n",
    "rows=int(input(\"Enter number of rows: \"))\n",
    "for i in range(rows, 0, -1):\n",
    "    for j in range(rows - i):\n",
    "        print(\" \", end=\"\")\n",
    "    for k in range(2 * i - 1):\n",
    "        print(\"#\", end=\"\")\n",
    "    print()"
   ]
  },
  {
   "cell_type": "code",
   "execution_count": 11,
   "id": "3f0b5b7e",
   "metadata": {},
   "outputs": [
    {
     "name": "stdout",
     "output_type": "stream",
     "text": [
      "number of rows: 4\n",
      "floyd's triangle\n",
      "* \n",
      "* * \n",
      "* * * \n",
      "* * * * \n"
     ]
    }
   ],
   "source": [
    "# pattern 4\n",
    "rows=int(input(\"number of rows: \"))\n",
    "number = \"*\" \n",
    "print(\"floyd's triangle\")\n",
    "i=1 \n",
    "while(i<=rows):\n",
    "    j=1                             \n",
    "    while(j<=i):\n",
    "        print(number,end=' ')                  \n",
    "        j=j+1\n",
    "    i=i+1\n",
    "    print()  "
   ]
  },
  {
   "cell_type": "code",
   "execution_count": 10,
   "id": "179b5657",
   "metadata": {},
   "outputs": [
    {
     "name": "stdout",
     "output_type": "stream",
     "text": [
      "Enter number of rows: 4\n",
      "   #\n",
      "  # #\n",
      " #   #\n",
      "#     #\n"
     ]
    }
   ],
   "source": [
    "# pattern 5\n",
    "rows=int(input(\"Enter number of rows: \"))\n",
    "for i in range(0, rows):\n",
    "        for j in range(0, rows - i - 1):\n",
    "            print(\" \", end=\"\")\n",
    "        for k in range(0, 2 * i + 1):\n",
    "            if k == 0 or k == 2 * i:\n",
    "                print(\"#\", end=\"\")\n",
    "            else:\n",
    "                print(\" \", end=\"\")\n",
    "        print()"
   ]
  },
  {
   "cell_type": "code",
   "execution_count": 12,
   "id": "6b50b760",
   "metadata": {},
   "outputs": [
    {
     "name": "stdout",
     "output_type": "stream",
     "text": [
      "Enter a number: 23\n",
      "Reversed number: 32\n"
     ]
    }
   ],
   "source": [
    "# Reverse a Number\n",
    "def reverse(num):\n",
    "    reversed_str = str(num)[::-1]\n",
    "    reversed_num = int(reversed_str)\n",
    "    return reversed_num\n",
    "num = int(input(\"Enter a number: \"))\n",
    "reversed_num = reverse(num)\n",
    "print(f\"Reversed number: {reversed_num}\")"
   ]
  },
  {
   "cell_type": "code",
   "execution_count": 13,
   "id": "0b2f68a8",
   "metadata": {},
   "outputs": [
    {
     "name": "stdout",
     "output_type": "stream",
     "text": [
      "Enter Number: 2\n",
      "Enter power: 4\n",
      "16\n"
     ]
    }
   ],
   "source": [
    "# Compute the power of a Number\n",
    "num=int(input(\"Enter Number: \"))\n",
    "power=int(input(\"Enter power: \"))\n",
    "result=num**power\n",
    "print(result)"
   ]
  }
 ],
 "metadata": {
  "kernelspec": {
   "display_name": "Python 3",
   "language": "python",
   "name": "python3"
  },
  "language_info": {
   "codemirror_mode": {
    "name": "ipython",
    "version": 3
   },
   "file_extension": ".py",
   "mimetype": "text/x-python",
   "name": "python",
   "nbconvert_exporter": "python",
   "pygments_lexer": "ipython3",
   "version": "3.8.8"
  }
 },
 "nbformat": 4,
 "nbformat_minor": 5
}
